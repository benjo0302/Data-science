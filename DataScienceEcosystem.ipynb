{
 "cells": [
  {
   "cell_type": "markdown",
   "id": "c80bfa64",
   "metadata": {},
   "source": [
    "# Data Science Tools and Ecosystem"
   ]
  },
  {
   "cell_type": "markdown",
   "id": "eadbc4e6",
   "metadata": {},
   "source": [
    "In this notebook, Data Science Tools and Ecosystem are summarized."
   ]
  },
  {
   "cell_type": "markdown",
   "id": "952b576c",
   "metadata": {},
   "source": [
    "**Objectives:**\n",
    "- list libraries that contain built-in modules\n",
    "- create a jupyter notebook\n",
    "- download and install R and Rstudio and get familiar with it\n"
   ]
  },
  {
   "cell_type": "markdown",
   "id": "d9fc6ef8",
   "metadata": {},
   "source": [
    "Some of the popular languages that Data scientist use are:\n",
    "1. python\n",
    "2. R\n",
    "3. SQL"
   ]
  },
  {
   "cell_type": "markdown",
   "id": "c4e24da7",
   "metadata": {},
   "source": [
    "Some of the commonly used libraries used by data scientists include:\n",
    "1. pandas\n",
    "2. numpy\n",
    "3. matplotlib"
   ]
  },
  {
   "cell_type": "markdown",
   "id": "310d585b",
   "metadata": {},
   "source": [
    "| Data Science Tools |\n",
    "| -------------------|\n",
    "| MySQL |\n",
    "| PostgreSQL |\n",
    "| MongoDB |\n"
   ]
  },
  {
   "cell_type": "markdown",
   "id": "e6797020",
   "metadata": {},
   "source": [
    "### Below are a few examples of evaluating arithmetic expressions in Python"
   ]
  },
  {
   "cell_type": "code",
   "execution_count": 12,
   "id": "72e927a9",
   "metadata": {},
   "outputs": [
    {
     "data": {
      "text/plain": [
       "17"
      ]
     },
     "execution_count": 12,
     "metadata": {},
     "output_type": "execute_result"
    }
   ],
   "source": [
    "#this a simple arithmetic expression to multiply then add integers\n",
    "(3*4)+5"
   ]
  },
  {
   "cell_type": "code",
   "execution_count": 13,
   "id": "4cc68117",
   "metadata": {},
   "outputs": [
    {
     "name": "stdout",
     "output_type": "stream",
     "text": [
      "3 hours\n",
      "20 minutes\n"
     ]
    }
   ],
   "source": [
    "#this will convert 200 minutes to hours by dividing by 60 \n",
    "print((200//60),\"hours\")\n",
    "print((200%60),\"minutes\")"
   ]
  },
  {
   "cell_type": "markdown",
   "id": "d332f4f2",
   "metadata": {},
   "source": [
    "## Author\n",
    "David Benjamin"
   ]
  },
  {
   "cell_type": "code",
   "execution_count": null,
   "id": "6b1f4cb2",
   "metadata": {},
   "outputs": [],
   "source": []
  }
 ],
 "metadata": {
  "kernelspec": {
   "display_name": "Python 3 (ipykernel)",
   "language": "python",
   "name": "python3"
  },
  "language_info": {
   "codemirror_mode": {
    "name": "ipython",
    "version": 3
   },
   "file_extension": ".py",
   "mimetype": "text/x-python",
   "name": "python",
   "nbconvert_exporter": "python",
   "pygments_lexer": "ipython3",
   "version": "3.9.12"
  }
 },
 "nbformat": 4,
 "nbformat_minor": 5
}
